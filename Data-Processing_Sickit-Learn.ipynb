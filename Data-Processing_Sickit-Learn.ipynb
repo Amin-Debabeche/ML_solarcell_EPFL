{
 "cells": [
  {
   "cell_type": "markdown",
   "metadata": {},
   "source": [
    "## Importation"
   ]
  },
  {
   "cell_type": "code",
   "execution_count": null,
   "metadata": {},
   "outputs": [],
   "source": [
    "import pandas as pd\n",
    "import numpy as np\n",
    "\n",
    "import matplotlib.pyplot as plt\n",
    "\n",
    "from mendeleev import element\n",
    "\n",
    "from sklearn.neural_network import MLPClassifier\n",
    "from sklearn.model_selection import train_test_split\n",
    "from sklearn.metrics import accuracy_score\n",
    "from sklearn.preprocessing import MaxAbsScaler\n",
    "\n",
    "import warnings\n",
    "warnings.filterwarnings('ignore')"
   ]
  },
  {
   "cell_type": "markdown",
   "metadata": {},
   "source": [
    "## Openning from text file - HALIDES"
   ]
  },
  {
   "cell_type": "code",
   "execution_count": null,
   "metadata": {},
   "outputs": [],
   "source": [
    "df = pd.DataFrame(pd.read_table(\"ICSD-halides.txt\"))"
   ]
  },
  {
   "cell_type": "code",
   "execution_count": null,
   "metadata": {},
   "outputs": [],
   "source": [
    "df.rename(columns = {\"Unnamed: 4\": \"Perovskite_label\"},  \n",
    "          inplace = True)\n",
    "df['Perovskite_label']=0\n",
    "df.fillna('-',inplace = True)"
   ]
  },
  {
   "cell_type": "markdown",
   "metadata": {},
   "source": [
    "### The one that are perovskite"
   ]
  },
  {
   "cell_type": "code",
   "execution_count": null,
   "metadata": {},
   "outputs": [],
   "source": [
    "for l in range(len(df)):\n",
    "    if 'Perovskite' in df.StructureType[l] or 'perovskite' in df.StructureType[l]:\n",
    "        df.Perovskite_label[l] = 1"
   ]
  },
  {
   "cell_type": "markdown",
   "metadata": {},
   "source": [
    "### Get rid of COMPLEX"
   ]
  },
  {
   "cell_type": "code",
   "execution_count": null,
   "metadata": {
    "scrolled": true
   },
   "outputs": [],
   "source": [
    "a = []\n",
    "\n",
    "for l in range(len(df)):\n",
    "    if '.' in df.StructuredFormula[l]:\n",
    "        a.append(l)\n",
    "        \n",
    "df_complex = df.drop(a, axis=0)\n",
    "df_complex.sort_values(by=['Perovskite_label'], ascending=False, inplace=True)\n",
    "df_complex.reset_index(drop=True, inplace=True)"
   ]
  },
  {
   "cell_type": "markdown",
   "metadata": {},
   "source": [
    "### Get rid of DUPLICATE taking into account polymorphism"
   ]
  },
  {
   "cell_type": "code",
   "execution_count": null,
   "metadata": {},
   "outputs": [],
   "source": [
    "seen = []\n",
    "uniq = []\n",
    "for l in range(len(df_complex)):\n",
    "    uniq.append(l)\n",
    "    if df_complex.StructuredFormula[l] not in seen:\n",
    "        del uniq[-1]\n",
    "        seen.append(df_complex.StructuredFormula[l])\n",
    "\n",
    "df_complex_multiplicate = df_complex.drop(uniq, axis=0)\n",
    "df_complex_multiplicate.reset_index(drop=True, inplace=True)"
   ]
  },
  {
   "cell_type": "markdown",
   "metadata": {},
   "source": [
    "## Code - FINISHED and now extraction"
   ]
  },
  {
   "cell_type": "code",
   "execution_count": null,
   "metadata": {},
   "outputs": [],
   "source": [
    "df_complex_multiplicate.to_csv('Parsed-halides.csv', columns = ['StructuredFormula', 'Perovskite_label'], index=False)\n"
   ]
  },
  {
   "cell_type": "markdown",
   "metadata": {},
   "source": [
    "## DataFrame for the Oxide Perovskite"
   ]
  },
  {
   "cell_type": "code",
   "execution_count": null,
   "metadata": {},
   "outputs": [],
   "source": [
    "dfo1 = pd.DataFrame(pd.read_table(\"ICSD-oxides-st.txt\"))\n",
    "dfo2 = pd.DataFrame(pd.read_table(\"ICSD-oxides-2nd.txt\"))\n",
    "dfo3 = pd.DataFrame(pd.read_table(\"ICSD-oxides-3nd.txt\"))\n",
    "\n",
    "dfoxide = pd.concat([dfo1, dfo2,dfo3])"
   ]
  },
  {
   "cell_type": "code",
   "execution_count": null,
   "metadata": {},
   "outputs": [],
   "source": [
    "dfoxide.rename(columns = {\"Unnamed: 9\": \"Perovskite_label\"},  \n",
    "          inplace = True)\n",
    "dfoxide['Perovskite_label']=0\n",
    "dfoxide.fillna('-',inplace = True)\n",
    "dfoxide.reset_index(drop=True, inplace=True)"
   ]
  },
  {
   "cell_type": "markdown",
   "metadata": {},
   "source": [
    "## Labelling"
   ]
  },
  {
   "cell_type": "code",
   "execution_count": null,
   "metadata": {},
   "outputs": [],
   "source": [
    "for l in range(len(dfoxide)):\n",
    "    if 'Perovskite' in dfoxide.StructureType[l] or 'perovskite' in dfoxide.StructureType[l]:\n",
    "        dfoxide.Perovskite_label[l] = 1"
   ]
  },
  {
   "cell_type": "markdown",
   "metadata": {},
   "source": [
    "### Get rid of COMPLEX"
   ]
  },
  {
   "cell_type": "code",
   "execution_count": null,
   "metadata": {
    "scrolled": true
   },
   "outputs": [],
   "source": [
    "aoxide = []\n",
    "\n",
    "for l in range(len(dfoxide)):\n",
    "    if '.' in dfoxide.StructuredFormula[l]:\n",
    "        aoxide.append(l)\n",
    "        \n",
    "dfoxide_complex = dfoxide.drop(aoxide, axis=0)\n",
    "dfoxide_complex.sort_values(by=['Perovskite_label'], ascending=False, inplace=True)\n",
    "dfoxide_complex.reset_index(drop=True, inplace=True)"
   ]
  },
  {
   "cell_type": "markdown",
   "metadata": {},
   "source": [
    "### Get rid of DUPLICATE taking into account polymorphism"
   ]
  },
  {
   "cell_type": "code",
   "execution_count": null,
   "metadata": {},
   "outputs": [],
   "source": [
    "seenoxide = []\n",
    "uniqoxide = []\n",
    "for l in range(len(dfoxide_complex)):\n",
    "    uniqoxide.append(l)\n",
    "    if dfoxide_complex.StructuredFormula[l] not in seenoxide:\n",
    "        del uniqoxide[-1]\n",
    "        seenoxide.append(dfoxide_complex.StructuredFormula[l])\n",
    "\n",
    "dfoxide_complex_multiplicate = dfoxide_complex.drop(uniqoxide, axis=0)\n",
    "dfoxide_complex_multiplicate.reset_index(drop=True, inplace=True)\n",
    "dfoxide_complex_multiplicate['StructuredFormula'] = dfoxide_complex_multiplicate['StructuredFormula'].str.replace('(', '').str.replace(')','')\n"
   ]
  },
  {
   "cell_type": "markdown",
   "metadata": {},
   "source": [
    "## Code - FINISHED and now extraction"
   ]
  },
  {
   "cell_type": "code",
   "execution_count": null,
   "metadata": {},
   "outputs": [],
   "source": [
    "dfoxide_complex_multiplicate.to_csv('Parsed-oxides.csv', columns = ['StructuredFormula', 'Perovskite_label'], index=False)\n"
   ]
  },
  {
   "cell_type": "code",
   "execution_count": null,
   "metadata": {},
   "outputs": [],
   "source": [
    "NN = dfoxide_complex_multiplicate[['StructuredFormula','Perovskite_label']]\n",
    "NN[['Atom1','Atom2','Atom3','Atom4','Atom5','Atom6','Atom7','Atom8','Atom9','Atom10']] = NN.StructuredFormula.str.split(expand=True)\n",
    "\n",
    "for l in range(len(NN)):\n",
    "    if NN.Atom4[l] == None:\n",
    "        NN.drop([l], axis=0, inplace=True)\n",
    "        continue\n",
    "    if NN.Atom5[l] != None:\n",
    "        NN.drop([l], axis=0, inplace=True)\n",
    "\n",
    "NN_final = NN[['Atom1','Atom2','Atom3','Atom4','Perovskite_label']]\n",
    "\n"
   ]
  },
  {
   "cell_type": "code",
   "execution_count": null,
   "metadata": {},
   "outputs": [],
   "source": [
    "NN_final.Atom1 = NN_final.Atom1.str.replace('\\d+', '')\n",
    "NN_final.Atom2 = NN_final.Atom2.str.replace('\\d+', '')\n",
    "NN_final.Atom3 = NN_final.Atom3.str.replace('\\d+', '')\n",
    "NN_final.Atom4 = NN_final.Atom4.str.replace('\\d+', '')\n",
    "\n",
    "NN_final"
   ]
  },
  {
   "cell_type": "markdown",
   "metadata": {},
   "source": [
    "## From the dataframe to the numpy array of features. Each compound is defined by 4 features where the features correspond to the atomic number (Z) of the atom. The array should contain the label.\n"
   ]
  },
  {
   "cell_type": "code",
   "execution_count": null,
   "metadata": {},
   "outputs": [],
   "source": [
    "for l in range(len(NN_final)):\n",
    "    NN_final.Atom1.iloc[l] = element(NN_final.Atom1.iloc[l]).atomic_number\n",
    "    NN_final.Atom2.iloc[l] = element(NN_final.Atom2.iloc[l]).atomic_number\n",
    "    NN_final.Atom3.iloc[l] = element(NN_final.Atom3.iloc[l]).atomic_number\n",
    "    NN_final.Atom4.iloc[l] = element(NN_final.Atom4.iloc[l]).atomic_number\n",
    "    "
   ]
  },
  {
   "cell_type": "code",
   "execution_count": null,
   "metadata": {},
   "outputs": [],
   "source": [
    "NN_4atoms = NN_final.sample(frac = 1)\n",
    "\n",
    "NN_4atoms\n",
    "\n",
    "Features = NN_4atoms.to_numpy()"
   ]
  },
  {
   "cell_type": "markdown",
   "metadata": {},
   "source": [
    "## DOING THE NN"
   ]
  },
  {
   "cell_type": "code",
   "execution_count": null,
   "metadata": {},
   "outputs": [],
   "source": [
    "X = Features[:,0:4]\n",
    "y = Features[:,-1].astype('int')\n",
    "\n",
    "X = sklearn.preprocessing.normalize(X, norm='l2', axis=1, copy=True, return_norm=False)\n",
    "\n",
    "\n",
    "X_train, X_test, y_train, y_test = train_test_split(X, y, stratify=y,\n",
    "                                                    random_state=1)\n",
    "\n",
    "\n",
    "transformer = MaxAbsScaler().fit(X_train)\n",
    "transformer.transform(X_train)\n",
    "\n",
    "clf = MLPClassifier(random_state=1, max_iter=1750, activation='relu', solver='lbfgs', alpha=1e-5, hidden_layer_sizes=(100,150,50),learning_rate='adaptive').fit(X_train, y_train)\n",
    "#clf = MLPClassifier(random_state=1, max_iter=360, activation='relu', solver='lbfgs', alpha=1e-5, hidden_layer_sizes=(100,150,50,100),learning_rate='adaptive').fit(X_train, y_train)\n",
    "\n",
    "\n",
    "\n",
    "clf.predict_proba(X_test[:1])\n",
    "\n",
    "clf.predict(X_test[:, :])\n",
    "\n",
    "print(clf.score(X_test, y_test))\n",
    "clf.score(X, y)"
   ]
  },
  {
   "cell_type": "code",
   "execution_count": null,
   "metadata": {},
   "outputs": [],
   "source": [
    "X = Features[:,0:4]\n",
    "y = Features[:,-1].astype('int')\n",
    "\n",
    "X = sklearn.preprocessing.normalize(X, norm='l2', axis=1, copy=True, return_norm=False)\n",
    "\n",
    "\n",
    "X_train, X_test, y_train, y_test = train_test_split(X, y, stratify=y,\n",
    "                                                    random_state=1)\n",
    "\n",
    "\n",
    "transformer = MaxAbsScaler().fit(X_train)\n",
    "transformer.transform(X_train)\n",
    "\n",
    "score = []\n",
    "for l in range(20,2000,10):\n",
    "    clf = MLPClassifier(random_state=1, max_iter=l, activation='relu', solver='lbfgs', alpha=1e-5, hidden_layer_sizes=(20,20,20,20),learning_rate='adaptive').fit(X_train, y_train)\n",
    "    score.append(clf.score(X_test, y_test))\n"
   ]
  },
  {
   "cell_type": "code",
   "execution_count": null,
   "metadata": {
    "scrolled": true
   },
   "outputs": [],
   "source": [
    "plt.plot(range(len(score)), score)\n",
    "plt.ylabel('score')\n",
    "plt.xlabel('epochs or max_iter')\n",
    "plt.show()\n",
    "\n",
    "\n",
    "print(max(score))\n",
    "20 + score.index(max(score))*10"
   ]
  },
  {
   "cell_type": "code",
   "execution_count": null,
   "metadata": {},
   "outputs": [],
   "source": [
    "from sklearn.neural_network import MLPClassifier\n",
    "from sklearn.model_selection import train_test_split\n",
    "from sklearn import preprocessing\n",
    "\n",
    "Features = NN_4atoms.to_numpy()\n",
    "\n",
    "score = [[],[],[]]\n",
    "\n",
    "\n",
    "X = Features[:,0:4]\n",
    "y = Features[:,-1].astype('int')\n",
    "\n",
    "\n",
    "X_train, X_test, y_train, y_test = train_test_split(X, y, stratify=y, random_state = 1)\n",
    "\n",
    "max_abs_scaler = preprocessing.MaxAbsScaler()\n",
    "X_train_maxabs = max_abs_scaler.fit_transform(X_train)\n",
    "\n",
    "\n",
    "for l in range(20,1000,30):\n",
    "    for i in range(20,1000,30):\n",
    "        for g in range(20,1000,30):\n",
    "            clf = MLPClassifier(random_state=1, max_iter=240, activation='relu', solver='lbfgs', alpha=1e-5, hidden_layer_sizes=(l,i,g),learning_rate='adaptive').fit(X_train, y_train)\n",
    "\n",
    "            score.append(clf.score(X_test, y_test))\n",
    "            layer[0].append(l)\n",
    "            layer[1].append(i)\n",
    "            layer[2].append(g)"
   ]
  },
  {
   "cell_type": "code",
   "execution_count": null,
   "metadata": {},
   "outputs": [],
   "source": [
    "plt.plot(range(len(score[4:])), score[4:])\n",
    "plt.ylabel('score')\n",
    "plt.xlabel('trials')\n",
    "plt.show()\n",
    "\n"
   ]
  },
  {
   "cell_type": "code",
   "execution_count": null,
   "metadata": {},
   "outputs": [],
   "source": [
    "X = Features[:,0:4]\n",
    "y = Features[:,-1].astype('int')\n",
    "\n",
    "n_classes = y.shape\n",
    "\n",
    "#X = sklearn.preprocessing.normalize(X, norm='l2', axis=1, copy=True, return_norm=False)\n",
    "\n",
    "X_train, X_test, y_train, y_test = train_test_split(X, y, stratify=y,\n",
    "                                                    random_state=1)\n",
    "\n",
    "\n",
    "transformer = MaxAbsScaler().fit(X_train)\n",
    "transformer.transform(X_train)\n",
    "\n",
    "y_score = MLPClassifier(random_state=1, max_iter=240, activation='relu', solver='lbfgs', alpha=1e-5, hidden_layer_sizes=(80,50,680),learning_rate='adaptive').fit(X_train, y_train)\n",
    "\n",
    "\n",
    "fpr2, tpr2, threshold = roc_curve(y_test, clf.predict_proba(X_test)[:,1])\n",
    "roc_auc2 = auc(fpr2, tpr2)\n",
    "\n",
    "# image drawing\n",
    "plt.figure()\n",
    "plt.title('Receiver Operating Characteristic %d iter' %240)\n",
    "plt.plot(fpr2, tpr2, label = 'MLP AUC = %0.2f' % 0.8331)\n",
    "plt.legend(loc = 'lower right')\n",
    "plt.plot([0, 1], [0, 1],'r--')\n",
    "plt.xlim([0, 1])\n",
    "plt.ylim([0, 1])\n",
    "plt.ylabel('True Positive Rate')\n",
    "plt.xlabel('False Positive Rate')\n",
    "plt.show()"
   ]
  },
  {
   "cell_type": "code",
   "execution_count": null,
   "metadata": {},
   "outputs": [],
   "source": [
    "from sklearn.neural_network import MLPClassifier\n",
    "from sklearn.model_selection import train_test_split\n",
    "import pandas as pd\n",
    "import numpy as np\n",
    "\n",
    "\n",
    "X = Features[:,0:4]\n",
    "y = Features[:,-1].astype('int')\n",
    "\n",
    "\n",
    "X_train, X_test, y_train, y_test = train_test_split(X, y, stratify=y,\n",
    "                                                    random_state=11)\n",
    "\n",
    "mlp_gs = MLPClassifier(max_iter=240)\n",
    "parameter_space = {\n",
    "    'hidden_layer_sizes': [(80,50,680),],\n",
    "    'activation': ['tanh', 'relu', 'logistic'],\n",
    "    'solver': ['sgd', 'adam','lbfgs'],\n",
    "    'alpha': 10.0 ** -np.arange(1, 7),\n",
    "    'learning_rate': [\"constant\", \"invscaling\", \"adaptive\"],\n",
    "    'learning_rate_init': 10.0 ** -np.arange(1, 6),\n",
    "    'random_state':np.arange(1, 4),\n",
    "    'tol' : 10.0 ** -np.arange(1, 6),\n",
    "}\n",
    "from sklearn.model_selection import GridSearchCV\n",
    "\n",
    "clf = GridSearchCV(mlp_gs, parameter_space, n_jobs=-1, cv=5)\n",
    "clf.fit(X_train, y_train)\n",
    "\n",
    "print(clf.score(X_test, y_test))\n",
    "print(clf.best_estimator_)"
   ]
  }
 ],
 "metadata": {
  "kernelspec": {
   "display_name": "Python 3",
   "language": "python",
   "name": "python3"
  },
  "language_info": {
   "codemirror_mode": {
    "name": "ipython",
    "version": 3
   },
   "file_extension": ".py",
   "mimetype": "text/x-python",
   "name": "python",
   "nbconvert_exporter": "python",
   "pygments_lexer": "ipython3",
   "version": "3.8.2"
  }
 },
 "nbformat": 4,
 "nbformat_minor": 4
}
